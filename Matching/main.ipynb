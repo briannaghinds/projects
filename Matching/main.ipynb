{
 "cells": [
  {
   "cell_type": "code",
   "execution_count": null,
   "id": "145abf26",
   "metadata": {},
   "outputs": [],
   "source": [
    "# GOAL: match columns from different CSVs but similar meanings\n",
    "# Standardize the column names\n",
    "# Merge all the CSVs into one master dataset\n",
    "\n",
    "\n",
    "# Possible Assumptions: is the data always in first, last, email, city, state order?"
   ]
  },
  {
   "cell_type": "code",
   "execution_count": 2,
   "id": "4c5729a7",
   "metadata": {},
   "outputs": [],
   "source": [
    "import pandas as pd"
   ]
  },
  {
   "cell_type": "markdown",
   "id": "5d2d20ef",
   "metadata": {},
   "source": [
    "# Data Preprocessing"
   ]
  },
  {
   "cell_type": "code",
   "execution_count": 3,
   "id": "22bbafb0",
   "metadata": {},
   "outputs": [
    {
     "data": {
      "text/html": [
       "<div>\n",
       "<style scoped>\n",
       "    .dataframe tbody tr th:only-of-type {\n",
       "        vertical-align: middle;\n",
       "    }\n",
       "\n",
       "    .dataframe tbody tr th {\n",
       "        vertical-align: top;\n",
       "    }\n",
       "\n",
       "    .dataframe thead th {\n",
       "        text-align: right;\n",
       "    }\n",
       "</style>\n",
       "<table border=\"1\" class=\"dataframe\">\n",
       "  <thead>\n",
       "    <tr style=\"text-align: right;\">\n",
       "      <th></th>\n",
       "      <th>FirstName</th>\n",
       "      <th>LastName</th>\n",
       "      <th>EmailAddress</th>\n",
       "      <th>City</th>\n",
       "      <th>State</th>\n",
       "    </tr>\n",
       "  </thead>\n",
       "  <tbody>\n",
       "    <tr>\n",
       "      <th>0</th>\n",
       "      <td>Ian</td>\n",
       "      <td>Wilson</td>\n",
       "      <td>hannah.wilson@mail.com</td>\n",
       "      <td>Los Angeles</td>\n",
       "      <td>NY</td>\n",
       "    </tr>\n",
       "    <tr>\n",
       "      <th>1</th>\n",
       "      <td>Alice</td>\n",
       "      <td>Jones</td>\n",
       "      <td>charlie.wilson@mail.com</td>\n",
       "      <td>Phoenix</td>\n",
       "      <td>IL</td>\n",
       "    </tr>\n",
       "    <tr>\n",
       "      <th>2</th>\n",
       "      <td>Fiona</td>\n",
       "      <td>Garcia</td>\n",
       "      <td>george.miller@mail.com</td>\n",
       "      <td>New York</td>\n",
       "      <td>TX</td>\n",
       "    </tr>\n",
       "    <tr>\n",
       "      <th>3</th>\n",
       "      <td>Alice</td>\n",
       "      <td>Brown</td>\n",
       "      <td>julia.smith@test.org</td>\n",
       "      <td>Houston</td>\n",
       "      <td>NY</td>\n",
       "    </tr>\n",
       "    <tr>\n",
       "      <th>4</th>\n",
       "      <td>Fiona</td>\n",
       "      <td>Davis</td>\n",
       "      <td>diana.williams@mail.com</td>\n",
       "      <td>Chicago</td>\n",
       "      <td>NY</td>\n",
       "    </tr>\n",
       "  </tbody>\n",
       "</table>\n",
       "</div>"
      ],
      "text/plain": [
       "  FirstName LastName             EmailAddress         City State\n",
       "0       Ian   Wilson   hannah.wilson@mail.com  Los Angeles    NY\n",
       "1     Alice    Jones  charlie.wilson@mail.com      Phoenix    IL\n",
       "2     Fiona   Garcia   george.miller@mail.com     New York    TX\n",
       "3     Alice    Brown     julia.smith@test.org      Houston    NY\n",
       "4     Fiona    Davis  diana.williams@mail.com      Chicago    NY"
      ]
     },
     "execution_count": 3,
     "metadata": {},
     "output_type": "execute_result"
    }
   ],
   "source": [
    "client1 = pd.read_csv(\"data/client1.csv\")\n",
    "client1.head()"
   ]
  },
  {
   "cell_type": "code",
   "execution_count": 4,
   "id": "bedb0061",
   "metadata": {},
   "outputs": [
    {
     "data": {
      "text/html": [
       "<div>\n",
       "<style scoped>\n",
       "    .dataframe tbody tr th:only-of-type {\n",
       "        vertical-align: middle;\n",
       "    }\n",
       "\n",
       "    .dataframe tbody tr th {\n",
       "        vertical-align: top;\n",
       "    }\n",
       "\n",
       "    .dataframe thead th {\n",
       "        text-align: right;\n",
       "    }\n",
       "</style>\n",
       "<table border=\"1\" class=\"dataframe\">\n",
       "  <thead>\n",
       "    <tr style=\"text-align: right;\">\n",
       "      <th></th>\n",
       "      <th>FName</th>\n",
       "      <th>LName</th>\n",
       "      <th>Email</th>\n",
       "      <th>Town</th>\n",
       "      <th>Province</th>\n",
       "    </tr>\n",
       "  </thead>\n",
       "  <tbody>\n",
       "    <tr>\n",
       "      <th>0</th>\n",
       "      <td>Bob</td>\n",
       "      <td>Brown</td>\n",
       "      <td>diana.smith@example.com</td>\n",
       "      <td>Chicago</td>\n",
       "      <td>NY</td>\n",
       "    </tr>\n",
       "    <tr>\n",
       "      <th>1</th>\n",
       "      <td>Ian</td>\n",
       "      <td>Taylor</td>\n",
       "      <td>fiona.johnson@example.com</td>\n",
       "      <td>Los Angeles</td>\n",
       "      <td>CA</td>\n",
       "    </tr>\n",
       "    <tr>\n",
       "      <th>2</th>\n",
       "      <td>Fiona</td>\n",
       "      <td>Miller</td>\n",
       "      <td>ian.wilson@mail.com</td>\n",
       "      <td>Phoenix</td>\n",
       "      <td>NY</td>\n",
       "    </tr>\n",
       "    <tr>\n",
       "      <th>3</th>\n",
       "      <td>Fiona</td>\n",
       "      <td>Williams</td>\n",
       "      <td>fiona.smith@test.org</td>\n",
       "      <td>New York</td>\n",
       "      <td>AZ</td>\n",
       "    </tr>\n",
       "    <tr>\n",
       "      <th>4</th>\n",
       "      <td>Bob</td>\n",
       "      <td>Brown</td>\n",
       "      <td>ian.jones@test.org</td>\n",
       "      <td>Chicago</td>\n",
       "      <td>AZ</td>\n",
       "    </tr>\n",
       "  </tbody>\n",
       "</table>\n",
       "</div>"
      ],
      "text/plain": [
       "   FName     LName                      Email         Town Province\n",
       "0    Bob     Brown    diana.smith@example.com      Chicago       NY\n",
       "1    Ian    Taylor  fiona.johnson@example.com  Los Angeles       CA\n",
       "2  Fiona    Miller        ian.wilson@mail.com      Phoenix       NY\n",
       "3  Fiona  Williams       fiona.smith@test.org     New York       AZ\n",
       "4    Bob     Brown         ian.jones@test.org      Chicago       AZ"
      ]
     },
     "execution_count": 4,
     "metadata": {},
     "output_type": "execute_result"
    }
   ],
   "source": [
    "client2 = pd.read_csv(\"data/client2.csv\")\n",
    "client2.head()"
   ]
  },
  {
   "cell_type": "code",
   "execution_count": 5,
   "id": "1ccd9081",
   "metadata": {},
   "outputs": [
    {
     "data": {
      "text/html": [
       "<div>\n",
       "<style scoped>\n",
       "    .dataframe tbody tr th:only-of-type {\n",
       "        vertical-align: middle;\n",
       "    }\n",
       "\n",
       "    .dataframe tbody tr th {\n",
       "        vertical-align: top;\n",
       "    }\n",
       "\n",
       "    .dataframe thead th {\n",
       "        text-align: right;\n",
       "    }\n",
       "</style>\n",
       "<table border=\"1\" class=\"dataframe\">\n",
       "  <thead>\n",
       "    <tr style=\"text-align: right;\">\n",
       "      <th></th>\n",
       "      <th>Given_Name</th>\n",
       "      <th>Surname</th>\n",
       "      <th>Contact_Email</th>\n",
       "      <th>City_Name</th>\n",
       "      <th>Region</th>\n",
       "    </tr>\n",
       "  </thead>\n",
       "  <tbody>\n",
       "    <tr>\n",
       "      <th>0</th>\n",
       "      <td>Alice</td>\n",
       "      <td>Brown</td>\n",
       "      <td>ethan.williams@test.org</td>\n",
       "      <td>Phoenix</td>\n",
       "      <td>NY</td>\n",
       "    </tr>\n",
       "    <tr>\n",
       "      <th>1</th>\n",
       "      <td>Ian</td>\n",
       "      <td>Taylor</td>\n",
       "      <td>diana.wilson@example.com</td>\n",
       "      <td>Los Angeles</td>\n",
       "      <td>TX</td>\n",
       "    </tr>\n",
       "    <tr>\n",
       "      <th>2</th>\n",
       "      <td>Alice</td>\n",
       "      <td>Brown</td>\n",
       "      <td>ethan.johnson@example.com</td>\n",
       "      <td>Houston</td>\n",
       "      <td>TX</td>\n",
       "    </tr>\n",
       "    <tr>\n",
       "      <th>3</th>\n",
       "      <td>Ethan</td>\n",
       "      <td>Brown</td>\n",
       "      <td>diana.wilson@mail.com</td>\n",
       "      <td>Phoenix</td>\n",
       "      <td>CA</td>\n",
       "    </tr>\n",
       "    <tr>\n",
       "      <th>4</th>\n",
       "      <td>Diana</td>\n",
       "      <td>Williams</td>\n",
       "      <td>fiona.jones@example.com</td>\n",
       "      <td>Phoenix</td>\n",
       "      <td>AZ</td>\n",
       "    </tr>\n",
       "  </tbody>\n",
       "</table>\n",
       "</div>"
      ],
      "text/plain": [
       "  Given_Name   Surname              Contact_Email    City_Name Region\n",
       "0      Alice     Brown    ethan.williams@test.org      Phoenix     NY\n",
       "1        Ian    Taylor   diana.wilson@example.com  Los Angeles     TX\n",
       "2      Alice     Brown  ethan.johnson@example.com      Houston     TX\n",
       "3      Ethan     Brown      diana.wilson@mail.com      Phoenix     CA\n",
       "4      Diana  Williams    fiona.jones@example.com      Phoenix     AZ"
      ]
     },
     "execution_count": 5,
     "metadata": {},
     "output_type": "execute_result"
    }
   ],
   "source": [
    "client3 = pd.read_csv(\"data/client3.csv\")\n",
    "client3.head()"
   ]
  },
  {
   "cell_type": "code",
   "execution_count": 7,
   "id": "c7cafd5b",
   "metadata": {},
   "outputs": [],
   "source": [
    "# matching the column names\n",
    "client1_col = list(client1.columns)\n",
    "client2_col = list(client2.columns)\n",
    "client3_col = list(client3.columns)"
   ]
  },
  {
   "cell_type": "markdown",
   "id": "0320049a",
   "metadata": {},
   "source": [
    "# Matching\n",
    "- rapidfuzz, pandas-dedupe, fuzzywuzzy and levenshtein (Python libraries)"
   ]
  },
  {
   "cell_type": "code",
   "execution_count": 17,
   "id": "2bab61ab",
   "metadata": {},
   "outputs": [],
   "source": [
    "from rapidfuzz import fuzz, process # string matching library (uses levenshtein distance to calculate the similarity between two strings)"
   ]
  },
  {
   "cell_type": "code",
   "execution_count": 18,
   "id": "03b6d54f",
   "metadata": {},
   "outputs": [
    {
     "name": "stdout",
     "output_type": "stream",
     "text": [
      "['FirstName', 'LastName', 'EmailAddress', 'City', 'State']\n",
      "['FName', 'LName', 'Email', 'Town', 'Province']\n",
      "['Given_Name', 'Surname', 'Contact_Email', 'City_Name', 'Region']\n"
     ]
    }
   ],
   "source": [
    "print(client1_col)\n",
    "print(client2_col)\n",
    "print(client3_col)\n",
    "\n",
    "# define a standardize naming convention\n",
    "name_standard = [\"first_name\", \"last_name\", \"email\", \"city\", \"state\"]"
   ]
  },
  {
   "cell_type": "code",
   "execution_count": null,
   "id": "c44c9a73",
   "metadata": {},
   "outputs": [
    {
     "data": {
      "text/plain": [
       "('FirstName', 73.6842105263158, 0)"
      ]
     },
     "execution_count": 21,
     "metadata": {},
     "output_type": "execute_result"
    }
   ],
   "source": [
    "# simple test\n",
    "process.extractOne(\"first_name\", client1_col, scorer=fuzz.WRatio)\n",
    "# returns: choice (value compared), similarity calculation, the type of choice (choice's index)"
   ]
  },
  {
   "cell_type": "code",
   "execution_count": 33,
   "id": "be892e51",
   "metadata": {},
   "outputs": [],
   "source": [
    "def match_columns(csv_headers : list, standard : list):\n",
    "    \"\"\"THINKING:\n",
    "        go through each value in the standardized column name list, and also all the csv files (so input is csv header as a list)\n",
    "        do the process.extractOne to each element in the list\n",
    "    \n",
    "    \"\"\"\n",
    "    print([i for i in csv_headers])  # list size of 3\n",
    "    print([i for i in standard])  # list size of 5\n",
    "\n",
    "    for i in csv_headers:  # looking through each csv file (3) \n",
    "        for j in standard:   # looking through each standard name (5)\n",
    "            r = process.extractOne(j, i, scorer=fuzz.WRatio)\n",
    "            print(f\"STANDARD: {j}, MATCH FINDINGS: {r}\")\n"
   ]
  },
  {
   "cell_type": "code",
   "execution_count": 34,
   "id": "3aced5d1",
   "metadata": {},
   "outputs": [
    {
     "name": "stdout",
     "output_type": "stream",
     "text": [
      "[['FirstName', 'LastName', 'EmailAddress', 'City', 'State'], ['FName', 'LName', 'Email', 'Town', 'Province'], ['Given_Name', 'Surname', 'Contact_Email', 'City_Name', 'Region']]\n",
      "['first_name', 'last_name', 'email', 'city', 'state']\n",
      "STANDARD: first_name, MATCH FINDINGS: ('FirstName', 73.6842105263158, 0)\n",
      "STANDARD: last_name, MATCH FINDINGS: ('LastName', 70.58823529411764, 1)\n",
      "STANDARD: email, MATCH FINDINGS: ('EmailAddress', 72.0, 2)\n",
      "STANDARD: city, MATCH FINDINGS: ('City', 75.0, 3)\n",
      "STANDARD: state, MATCH FINDINGS: ('State', 80.0, 4)\n",
      "STANDARD: first_name, MATCH FINDINGS: ('FName', 67.5, 0)\n",
      "STANDARD: last_name, MATCH FINDINGS: ('FName', 67.5, 0)\n",
      "STANDARD: email, MATCH FINDINGS: ('Email', 80.0, 2)\n",
      "STANDARD: city, MATCH FINDINGS: ('Province', 30.000000000000004, 4)\n",
      "STANDARD: state, MATCH FINDINGS: ('FName', 40.0, 0)\n",
      "STANDARD: first_name, MATCH FINDINGS: ('City_Name', 63.1578947368421, 3)\n",
      "STANDARD: last_name, MATCH FINDINGS: ('City_Name', 55.55555555555556, 3)\n",
      "STANDARD: email, MATCH FINDINGS: ('Contact_Email', 80.0, 2)\n",
      "STANDARD: city, MATCH FINDINGS: ('City_Name', 67.5, 3)\n",
      "STANDARD: state, MATCH FINDINGS: ('Contact_Email', 54.0, 2)\n"
     ]
    }
   ],
   "source": [
    "csv_files = [client1_col, client2_col, client3_col]\n",
    "match_columns(csv_files, name_standard)"
   ]
  },
  {
   "cell_type": "markdown",
   "id": "eef5b8c6",
   "metadata": {},
   "source": [
    "# Combined CSV File"
   ]
  }
 ],
 "metadata": {
  "kernelspec": {
   "display_name": "Python 3",
   "language": "python",
   "name": "python3"
  },
  "language_info": {
   "codemirror_mode": {
    "name": "ipython",
    "version": 3
   },
   "file_extension": ".py",
   "mimetype": "text/x-python",
   "name": "python",
   "nbconvert_exporter": "python",
   "pygments_lexer": "ipython3",
   "version": "3.11.4"
  }
 },
 "nbformat": 4,
 "nbformat_minor": 5
}
